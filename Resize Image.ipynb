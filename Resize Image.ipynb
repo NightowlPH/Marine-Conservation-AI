{
 "cells": [
  {
   "cell_type": "code",
   "execution_count": 4,
   "metadata": {},
   "outputs": [],
   "source": [
    "from PIL import Image\n",
    "import os, sys\n",
    "\n",
    "path = \"C:/Users/Naomi Ezaki/Documents/Data/marine_animals_data_cropped/test_images/\"\n",
    "# path = \"C:/Users/Naomi Ezaki/Documents/Data/sighting_type_data/training_images/stranded/\"\n",
    "dirs = os.listdir(path)"
   ]
  },
  {
   "cell_type": "code",
   "execution_count": null,
   "metadata": {},
   "outputs": [],
   "source": [
    "def convert(): #convert png to jpeg\n",
    "    for item in dirs:\n",
    "        if os.path.isfile(path+item):\n",
    "            im = Image.open(path+item)\n",
    "            f, e = os.path.splitext(path+item)\n",
    "            im = Image.open(path+item)\n",
    "            print(im.mode)\n",
    "            im.convert('RGB').save(f+\"_c_\",\"JPEG\")\n",
    "            print(\"converted\")\n",
    "            print(\"------\"+im.mode)\n",
    "convert()"
   ]
  },
  {
   "cell_type": "code",
   "execution_count": 5,
   "metadata": {},
   "outputs": [
    {
     "name": "stdout",
     "output_type": "stream",
     "text": [
      "resized\n",
      "resized\n",
      "resized\n",
      "resized\n",
      "resized\n",
      "resized\n",
      "resized\n",
      "resized\n",
      "resized\n"
     ]
    }
   ],
   "source": [
    "def resize():\n",
    "    for item in dirs:\n",
    "        if os.path.isfile(path+item):\n",
    "            im = Image.open(path+item)\n",
    "            f, e = os.path.splitext(path+item)\n",
    "            imResize = im.resize((255,255), Image.ANTIALIAS)\n",
    "            imResize.save(f + ' resized.jpeg', 'JPEG', quality=90)\n",
    "            print(\"resized\")\n",
    "resize()"
   ]
  },
  {
   "cell_type": "code",
   "execution_count": null,
   "metadata": {},
   "outputs": [],
   "source": []
  }
 ],
 "metadata": {
  "kernelspec": {
   "display_name": "Python 3",
   "language": "python",
   "name": "python3"
  },
  "language_info": {
   "codemirror_mode": {
    "name": "ipython",
    "version": 3
   },
   "file_extension": ".py",
   "mimetype": "text/x-python",
   "name": "python",
   "nbconvert_exporter": "python",
   "pygments_lexer": "ipython3",
   "version": "3.6.7"
  }
 },
 "nbformat": 4,
 "nbformat_minor": 2
}
