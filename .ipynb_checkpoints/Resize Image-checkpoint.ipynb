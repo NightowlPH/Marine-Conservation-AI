{
 "cells": [
  {
   "cell_type": "code",
   "execution_count": 59,
   "metadata": {},
   "outputs": [],
   "source": [
    "from PIL import Image\n",
    "import os, sys\n",
    "\n",
    "path = \"C:/Users/Naomi Ezaki/Documents/Data/marine_animals_data/test_images/\"\n",
    "dirs = os.listdir(path)"
   ]
  },
  {
   "cell_type": "markdown",
   "metadata": {},
   "source": [
    "# Convert PNG to JPEG"
   ]
  },
  {
   "cell_type": "code",
   "execution_count": 60,
   "metadata": {},
   "outputs": [
    {
     "name": "stdout",
     "output_type": "stream",
     "text": [
      "RGBA\n",
      "C:/Users/Naomi Ezaki/Documents/Data/marine_animals_data/training_images/whale_shark/whale_shark13\n",
      "converted\n",
      "------RGBA\n"
     ]
    }
   ],
   "source": [
    "#convert png to jpeg\n",
    "def convert():\n",
    "    for item in dirs:\n",
    "        if os.path.isfile(path+item):\n",
    "            im = Image.open(path+item)\n",
    "            f, e = os.path.splitext(path+item)\n",
    "            im = Image.open(path+item)\n",
    "            if im.mode != 'RGB':\n",
    "                print(im.mode)\n",
    "                print(f)\n",
    "                im.convert('RGB').save(f+\"c.jpeg\",\"JPEG\")\n",
    "                print(\"converted\")\n",
    "                print(\"------\"+im.mode)\n",
    "convert()"
   ]
  },
  {
   "cell_type": "markdown",
   "metadata": {},
   "source": [
    "# Resize all images in a folder"
   ]
  },
  {
   "cell_type": "code",
   "execution_count": 61,
   "metadata": {},
   "outputs": [
    {
     "name": "stdout",
     "output_type": "stream",
     "text": [
      "resized\n",
      "resized\n",
      "resized\n",
      "resized\n",
      "resized\n",
      "resized\n",
      "resized\n",
      "resized\n",
      "resized\n",
      "resized\n",
      "resized\n",
      "resized\n",
      "resized\n",
      "resized\n",
      "resized\n",
      "resized\n",
      "resized\n",
      "resized\n",
      "resized\n",
      "resized\n",
      "resized\n",
      "resized\n",
      "resized\n",
      "resized\n",
      "resized\n",
      "resized\n",
      "resized\n",
      "resized\n",
      "resized\n",
      "resized\n",
      "resized\n",
      "resized\n",
      "resized\n",
      "resized\n",
      "resized\n",
      "resized\n",
      "resized\n",
      "resized\n",
      "resized\n",
      "resized\n",
      "resized\n",
      "resized\n",
      "resized\n",
      "resized\n",
      "resized\n",
      "resized\n",
      "resized\n",
      "resized\n",
      "resized\n",
      "resized\n",
      "resized\n",
      "resized\n",
      "resized\n",
      "resized\n",
      "resized\n",
      "resized\n",
      "resized\n",
      "resized\n",
      "resized\n",
      "resized\n",
      "resized\n",
      "resized\n",
      "resized\n",
      "resized\n",
      "resized\n",
      "resized\n",
      "resized\n",
      "resized\n",
      "resized\n",
      "resized\n",
      "resized\n",
      "resized\n",
      "resized\n",
      "resized\n",
      "resized\n",
      "resized\n",
      "resized\n",
      "resized\n",
      "resized\n",
      "resized\n",
      "resized\n",
      "resized\n",
      "resized\n",
      "resized\n",
      "resized\n",
      "resized\n",
      "resized\n",
      "resized\n",
      "resized\n",
      "resized\n",
      "resized\n",
      "resized\n",
      "resized\n",
      "resized\n",
      "resized\n",
      "resized\n",
      "resized\n",
      "resized\n",
      "resized\n"
     ]
    }
   ],
   "source": [
    "#Resize all images in a folder\n",
    "def all_images_resize():\n",
    "    for item in dirs:\n",
    "        if os.path.isfile(path+item):\n",
    "            im = Image.open(path+item)\n",
    "            f, e = os.path.splitext(path+item)\n",
    "            imResize = im.resize((255,255), Image.ANTIALIAS)\n",
    "            imResize.save(f + ' resized.jpeg', 'JPEG', quality=90)\n",
    "            print(\"resized\")\n",
    "        \n",
    "all_images_resize()\n"
   ]
  },
  {
   "cell_type": "markdown",
   "metadata": {},
   "source": [
    "# Resize a Single Image"
   ]
  },
  {
   "cell_type": "code",
   "execution_count": 62,
   "metadata": {},
   "outputs": [
    {
     "name": "stdout",
     "output_type": "stream",
     "text": [
      "resized\n"
     ]
    }
   ],
   "source": [
    "#For single file:\n",
    "def single_image_resize():\n",
    "    filename=\"whale_shark13.jpeg\"\n",
    "    if os.path.isfile(path+filename):\n",
    "        im = Image.open(path+filename)\n",
    "        f, e = os.path.splitext(path+filename)\n",
    "        imResize = im.resize((255,255), Image.ANTIALIAS)\n",
    "        imResize.save(f + ' resized.jpeg', 'JPEG', quality=90)\n",
    "        print(\"resized\")\n",
    "\n",
    "single_image_resize()"
   ]
  },
  {
   "cell_type": "code",
   "execution_count": null,
   "metadata": {},
   "outputs": [],
   "source": []
  }
 ],
 "metadata": {
  "kernelspec": {
   "display_name": "Python 3",
   "language": "python",
   "name": "python3"
  },
  "language_info": {
   "codemirror_mode": {
    "name": "ipython",
    "version": 3
   },
   "file_extension": ".py",
   "mimetype": "text/x-python",
   "name": "python",
   "nbconvert_exporter": "python",
   "pygments_lexer": "ipython3",
   "version": "3.6.7"
  }
 },
 "nbformat": 4,
 "nbformat_minor": 2
}
