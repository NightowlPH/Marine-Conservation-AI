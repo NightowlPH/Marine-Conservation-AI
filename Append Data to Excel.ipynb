{
 "cells": [
  {
   "cell_type": "code",
   "execution_count": 5,
   "metadata": {},
   "outputs": [
    {
     "name": "stdout",
     "output_type": "stream",
     "text": [
      "C:\\Users\\Naomi Ezaki\\Documents\\Marine-Conservation-AI\n"
     ]
    }
   ],
   "source": [
    "# Import `os` \n",
    "import os\n",
    "\n",
    "# Retrieve current working directory (`cwd`)\n",
    "cwd = os.getcwd()\n",
    "print(cwd)"
   ]
  },
  {
   "cell_type": "code",
   "execution_count": 6,
   "metadata": {},
   "outputs": [
    {
     "name": "stdout",
     "output_type": "stream",
     "text": [
      "done creating excel file\n"
     ]
    }
   ],
   "source": [
    "import xlwt \n",
    "from xlwt import Workbook \n",
    "\n",
    "def create_excel():\n",
    "    file = 'sample_excel_append.xls'\n",
    "    sheet_name = 'Sheet1'\n",
    "    # Workbook is created \n",
    "    wb = xlwt.Workbook(encoding=\"utf-8\")\n",
    "    sheet1 = wb.add_sheet(sheet_name ,cell_overwrite_ok=True)\n",
    "\n",
    "    obj_arr = [\"thunder\", \"fire\", \"water\", \"rock\", \"grass\"]\n",
    "\n",
    "    i=0\n",
    "    for x in obj_arr:\n",
    "        #sheet1.write(row, col, text)\n",
    "        sheet1.write(i+1, 0, x)\n",
    "        i+=1\n",
    "\n",
    "    wb.save(file)\n",
    "    print(\"done creating excel file\")\n",
    "\n",
    "create_excel()"
   ]
  },
  {
   "cell_type": "code",
   "execution_count": 37,
   "metadata": {},
   "outputs": [
    {
     "name": "stdout",
     "output_type": "stream",
     "text": [
      "Pikachu (thunder)\n"
     ]
    },
    {
     "data": {
      "text/plain": [
       "['Pikachu', '(thunder)']"
      ]
     },
     "execution_count": 37,
     "metadata": {},
     "output_type": "execute_result"
    }
   ],
   "source": [
    "\n"
   ]
  },
  {
   "cell_type": "code",
   "execution_count": null,
   "metadata": {},
   "outputs": [],
   "source": []
  }
 ],
 "metadata": {
  "kernelspec": {
   "display_name": "Python 3",
   "language": "python",
   "name": "python3"
  },
  "language_info": {
   "codemirror_mode": {
    "name": "ipython",
    "version": 3
   },
   "file_extension": ".py",
   "mimetype": "text/x-python",
   "name": "python",
   "nbconvert_exporter": "python",
   "pygments_lexer": "ipython3",
   "version": "3.6.7"
  }
 },
 "nbformat": 4,
 "nbformat_minor": 2
}
